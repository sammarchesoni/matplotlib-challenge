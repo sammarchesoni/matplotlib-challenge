{
 "cells": [
  {
   "cell_type": "code",
   "execution_count": 140,
   "metadata": {},
   "outputs": [
    {
     "data": {
      "text/html": [
       "<div>\n",
       "<style scoped>\n",
       "    .dataframe tbody tr th:only-of-type {\n",
       "        vertical-align: middle;\n",
       "    }\n",
       "\n",
       "    .dataframe tbody tr th {\n",
       "        vertical-align: top;\n",
       "    }\n",
       "\n",
       "    .dataframe thead th {\n",
       "        text-align: right;\n",
       "    }\n",
       "</style>\n",
       "<table border=\"1\" class=\"dataframe\">\n",
       "  <thead>\n",
       "    <tr style=\"text-align: right;\">\n",
       "      <th></th>\n",
       "      <th>Mouse ID</th>\n",
       "      <th>Timepoint</th>\n",
       "      <th>Tumor Volume (mm3)</th>\n",
       "      <th>Metastatic Sites</th>\n",
       "      <th>Drug</th>\n",
       "    </tr>\n",
       "  </thead>\n",
       "  <tbody>\n",
       "    <tr>\n",
       "      <th>0</th>\n",
       "      <td>b128</td>\n",
       "      <td>0</td>\n",
       "      <td>45.0</td>\n",
       "      <td>0</td>\n",
       "      <td>Capomulin</td>\n",
       "    </tr>\n",
       "    <tr>\n",
       "      <th>1</th>\n",
       "      <td>f932</td>\n",
       "      <td>0</td>\n",
       "      <td>45.0</td>\n",
       "      <td>0</td>\n",
       "      <td>Ketapril</td>\n",
       "    </tr>\n",
       "    <tr>\n",
       "      <th>2</th>\n",
       "      <td>g107</td>\n",
       "      <td>0</td>\n",
       "      <td>45.0</td>\n",
       "      <td>0</td>\n",
       "      <td>Ketapril</td>\n",
       "    </tr>\n",
       "    <tr>\n",
       "      <th>3</th>\n",
       "      <td>a457</td>\n",
       "      <td>0</td>\n",
       "      <td>45.0</td>\n",
       "      <td>0</td>\n",
       "      <td>Ketapril</td>\n",
       "    </tr>\n",
       "    <tr>\n",
       "      <th>4</th>\n",
       "      <td>c819</td>\n",
       "      <td>0</td>\n",
       "      <td>45.0</td>\n",
       "      <td>0</td>\n",
       "      <td>Ketapril</td>\n",
       "    </tr>\n",
       "  </tbody>\n",
       "</table>\n",
       "</div>"
      ],
      "text/plain": [
       "  Mouse ID  Timepoint  Tumor Volume (mm3)  Metastatic Sites       Drug\n",
       "0     b128          0                45.0                 0  Capomulin\n",
       "1     f932          0                45.0                 0   Ketapril\n",
       "2     g107          0                45.0                 0   Ketapril\n",
       "3     a457          0                45.0                 0   Ketapril\n",
       "4     c819          0                45.0                 0   Ketapril"
      ]
     },
     "execution_count": 140,
     "metadata": {},
     "output_type": "execute_result"
    }
   ],
   "source": [
    "# Dependencies and Setup\n",
    "%matplotlib inline\n",
    "import matplotlib.pyplot as plt\n",
    "import pandas as pd\n",
    "import numpy as np\n",
    "\n",
    "# Hide warning messages in notebook\n",
    "import warnings\n",
    "warnings.filterwarnings('ignore')\n",
    "\n",
    "# File to Load (Remember to Change These)\n",
    "mouse_drug_data_to_load = \"data/mouse_drug_data.csv\"\n",
    "clinical_trial_data_to_load = \"data/clinicaltrial_data.csv\"\n",
    "\n",
    "# Read the Mouse and Drug Data and the Clinical Trial Data\n",
    "mouse_data = pd.read_csv(mouse_drug_data_to_load)\n",
    "trial_data = pd.read_csv(clinical_trial_data_to_load)\n",
    "mouse_data.head()\n",
    "trial_data.head()\n",
    "\n",
    "# Combine the data into a single dataset\n",
    "data = pd.merge(trial_data, mouse_data, how=\"left\", on=[\"Mouse ID\"])\n",
    "\n",
    "# Display the data table for preview\n",
    "data.head()"
   ]
  },
  {
   "cell_type": "code",
   "execution_count": 141,
   "metadata": {},
   "outputs": [
    {
     "data": {
      "text/html": [
       "<div>\n",
       "<style scoped>\n",
       "    .dataframe tbody tr th:only-of-type {\n",
       "        vertical-align: middle;\n",
       "    }\n",
       "\n",
       "    .dataframe tbody tr th {\n",
       "        vertical-align: top;\n",
       "    }\n",
       "\n",
       "    .dataframe thead th {\n",
       "        text-align: right;\n",
       "    }\n",
       "</style>\n",
       "<table border=\"1\" class=\"dataframe\">\n",
       "  <thead>\n",
       "    <tr style=\"text-align: right;\">\n",
       "      <th></th>\n",
       "      <th>Drug</th>\n",
       "      <th>Timepoint</th>\n",
       "      <th>Tumor Volume (mm3)</th>\n",
       "    </tr>\n",
       "  </thead>\n",
       "  <tbody>\n",
       "    <tr>\n",
       "      <th>0</th>\n",
       "      <td>Capomulin</td>\n",
       "      <td>0</td>\n",
       "      <td>45.000000</td>\n",
       "    </tr>\n",
       "    <tr>\n",
       "      <th>1</th>\n",
       "      <td>Capomulin</td>\n",
       "      <td>5</td>\n",
       "      <td>44.266086</td>\n",
       "    </tr>\n",
       "    <tr>\n",
       "      <th>2</th>\n",
       "      <td>Capomulin</td>\n",
       "      <td>10</td>\n",
       "      <td>43.084291</td>\n",
       "    </tr>\n",
       "    <tr>\n",
       "      <th>3</th>\n",
       "      <td>Capomulin</td>\n",
       "      <td>15</td>\n",
       "      <td>42.064317</td>\n",
       "    </tr>\n",
       "    <tr>\n",
       "      <th>4</th>\n",
       "      <td>Capomulin</td>\n",
       "      <td>20</td>\n",
       "      <td>40.716325</td>\n",
       "    </tr>\n",
       "  </tbody>\n",
       "</table>\n",
       "</div>"
      ],
      "text/plain": [
       "        Drug  Timepoint  Tumor Volume (mm3)\n",
       "0  Capomulin          0           45.000000\n",
       "1  Capomulin          5           44.266086\n",
       "2  Capomulin         10           43.084291\n",
       "3  Capomulin         15           42.064317\n",
       "4  Capomulin         20           40.716325"
      ]
     },
     "execution_count": 141,
     "metadata": {},
     "output_type": "execute_result"
    }
   ],
   "source": [
    "# Store the Mean Tumor Volume Data Grouped by Drug and Timepoint \n",
    "mean_tv_gb = data.groupby([\"Drug\", \"Timepoint\"])[\"Tumor Volume (mm3)\"].mean()\n",
    "\n",
    "# Convert to DataFrame\n",
    "mean_tv_df = pd.DataFrame(mean_tv_gb).reset_index()\n",
    "\n",
    "# Preview DataFrame\n",
    "mean_tv_df.head()"
   ]
  },
  {
   "cell_type": "code",
   "execution_count": 142,
   "metadata": {},
   "outputs": [
    {
     "data": {
      "text/html": [
       "<div>\n",
       "<style scoped>\n",
       "    .dataframe tbody tr th:only-of-type {\n",
       "        vertical-align: middle;\n",
       "    }\n",
       "\n",
       "    .dataframe tbody tr th {\n",
       "        vertical-align: top;\n",
       "    }\n",
       "\n",
       "    .dataframe thead th {\n",
       "        text-align: right;\n",
       "    }\n",
       "</style>\n",
       "<table border=\"1\" class=\"dataframe\">\n",
       "  <thead>\n",
       "    <tr style=\"text-align: right;\">\n",
       "      <th></th>\n",
       "      <th>Drug</th>\n",
       "      <th>Timepoint</th>\n",
       "      <th>Tumor Volume (mm3)</th>\n",
       "    </tr>\n",
       "  </thead>\n",
       "  <tbody>\n",
       "    <tr>\n",
       "      <th>0</th>\n",
       "      <td>Capomulin</td>\n",
       "      <td>0</td>\n",
       "      <td>0.000000</td>\n",
       "    </tr>\n",
       "    <tr>\n",
       "      <th>1</th>\n",
       "      <td>Capomulin</td>\n",
       "      <td>5</td>\n",
       "      <td>0.448593</td>\n",
       "    </tr>\n",
       "    <tr>\n",
       "      <th>2</th>\n",
       "      <td>Capomulin</td>\n",
       "      <td>10</td>\n",
       "      <td>0.702684</td>\n",
       "    </tr>\n",
       "    <tr>\n",
       "      <th>3</th>\n",
       "      <td>Capomulin</td>\n",
       "      <td>15</td>\n",
       "      <td>0.838617</td>\n",
       "    </tr>\n",
       "    <tr>\n",
       "      <th>4</th>\n",
       "      <td>Capomulin</td>\n",
       "      <td>20</td>\n",
       "      <td>0.909731</td>\n",
       "    </tr>\n",
       "  </tbody>\n",
       "</table>\n",
       "</div>"
      ],
      "text/plain": [
       "        Drug  Timepoint  Tumor Volume (mm3)\n",
       "0  Capomulin          0            0.000000\n",
       "1  Capomulin          5            0.448593\n",
       "2  Capomulin         10            0.702684\n",
       "3  Capomulin         15            0.838617\n",
       "4  Capomulin         20            0.909731"
      ]
     },
     "execution_count": 142,
     "metadata": {},
     "output_type": "execute_result"
    }
   ],
   "source": [
    "# Store the Standard Error of Tumor Volumes Grouped by Drug and Timepoint\n",
    "se_tv_gb = data.groupby([\"Drug\", \"Timepoint\"])[\"Tumor Volume (mm3)\"].sem()\n",
    "\n",
    "# Convert to DataFrame\n",
    "se_tv_df = pd.DataFrame(se_tv_gb).reset_index()\n",
    "\n",
    "# Preview DataFrame\n",
    "se_tv_df.head()"
   ]
  },
  {
   "cell_type": "code",
   "execution_count": 143,
   "metadata": {
    "scrolled": true
   },
   "outputs": [
    {
     "data": {
      "text/html": [
       "<div>\n",
       "<style scoped>\n",
       "    .dataframe tbody tr th:only-of-type {\n",
       "        vertical-align: middle;\n",
       "    }\n",
       "\n",
       "    .dataframe tbody tr th {\n",
       "        vertical-align: top;\n",
       "    }\n",
       "\n",
       "    .dataframe thead th {\n",
       "        text-align: right;\n",
       "    }\n",
       "</style>\n",
       "<table border=\"1\" class=\"dataframe\">\n",
       "  <thead>\n",
       "    <tr style=\"text-align: right;\">\n",
       "      <th>Drug</th>\n",
       "      <th>Capomulin</th>\n",
       "      <th>Ceftamin</th>\n",
       "      <th>Infubinol</th>\n",
       "      <th>Ketapril</th>\n",
       "      <th>Naftisol</th>\n",
       "      <th>Placebo</th>\n",
       "      <th>Propriva</th>\n",
       "      <th>Ramicane</th>\n",
       "      <th>Stelasyn</th>\n",
       "      <th>Zoniferol</th>\n",
       "    </tr>\n",
       "    <tr>\n",
       "      <th>Timepoint</th>\n",
       "      <th></th>\n",
       "      <th></th>\n",
       "      <th></th>\n",
       "      <th></th>\n",
       "      <th></th>\n",
       "      <th></th>\n",
       "      <th></th>\n",
       "      <th></th>\n",
       "      <th></th>\n",
       "      <th></th>\n",
       "    </tr>\n",
       "  </thead>\n",
       "  <tbody>\n",
       "    <tr>\n",
       "      <th>0</th>\n",
       "      <td>45.000000</td>\n",
       "      <td>45.000000</td>\n",
       "      <td>45.000000</td>\n",
       "      <td>45.000000</td>\n",
       "      <td>45.000000</td>\n",
       "      <td>45.000000</td>\n",
       "      <td>45.000000</td>\n",
       "      <td>45.000000</td>\n",
       "      <td>45.000000</td>\n",
       "      <td>45.000000</td>\n",
       "    </tr>\n",
       "    <tr>\n",
       "      <th>5</th>\n",
       "      <td>44.266086</td>\n",
       "      <td>46.503051</td>\n",
       "      <td>47.062001</td>\n",
       "      <td>47.389175</td>\n",
       "      <td>46.796098</td>\n",
       "      <td>47.125589</td>\n",
       "      <td>47.248967</td>\n",
       "      <td>43.944859</td>\n",
       "      <td>47.527452</td>\n",
       "      <td>46.851818</td>\n",
       "    </tr>\n",
       "    <tr>\n",
       "      <th>10</th>\n",
       "      <td>43.084291</td>\n",
       "      <td>48.285125</td>\n",
       "      <td>49.403909</td>\n",
       "      <td>49.582269</td>\n",
       "      <td>48.694210</td>\n",
       "      <td>49.423329</td>\n",
       "      <td>49.101541</td>\n",
       "      <td>42.531957</td>\n",
       "      <td>49.463844</td>\n",
       "      <td>48.689881</td>\n",
       "    </tr>\n",
       "    <tr>\n",
       "      <th>15</th>\n",
       "      <td>42.064317</td>\n",
       "      <td>50.094055</td>\n",
       "      <td>51.296397</td>\n",
       "      <td>52.399974</td>\n",
       "      <td>50.933018</td>\n",
       "      <td>51.359742</td>\n",
       "      <td>51.067318</td>\n",
       "      <td>41.495061</td>\n",
       "      <td>51.529409</td>\n",
       "      <td>50.779059</td>\n",
       "    </tr>\n",
       "    <tr>\n",
       "      <th>20</th>\n",
       "      <td>40.716325</td>\n",
       "      <td>52.157049</td>\n",
       "      <td>53.197691</td>\n",
       "      <td>54.920935</td>\n",
       "      <td>53.644087</td>\n",
       "      <td>54.364417</td>\n",
       "      <td>53.346737</td>\n",
       "      <td>40.238325</td>\n",
       "      <td>54.067395</td>\n",
       "      <td>53.170334</td>\n",
       "    </tr>\n",
       "  </tbody>\n",
       "</table>\n",
       "</div>"
      ],
      "text/plain": [
       "Drug       Capomulin   Ceftamin  Infubinol   Ketapril   Naftisol    Placebo  \\\n",
       "Timepoint                                                                     \n",
       "0          45.000000  45.000000  45.000000  45.000000  45.000000  45.000000   \n",
       "5          44.266086  46.503051  47.062001  47.389175  46.796098  47.125589   \n",
       "10         43.084291  48.285125  49.403909  49.582269  48.694210  49.423329   \n",
       "15         42.064317  50.094055  51.296397  52.399974  50.933018  51.359742   \n",
       "20         40.716325  52.157049  53.197691  54.920935  53.644087  54.364417   \n",
       "\n",
       "Drug        Propriva   Ramicane   Stelasyn  Zoniferol  \n",
       "Timepoint                                              \n",
       "0          45.000000  45.000000  45.000000  45.000000  \n",
       "5          47.248967  43.944859  47.527452  46.851818  \n",
       "10         49.101541  42.531957  49.463844  48.689881  \n",
       "15         51.067318  41.495061  51.529409  50.779059  \n",
       "20         53.346737  40.238325  54.067395  53.170334  "
      ]
     },
     "execution_count": 143,
     "metadata": {},
     "output_type": "execute_result"
    }
   ],
   "source": [
    "# Minor Data Munging to Re-Format the Data Frames\n",
    "mean_data = mean_tv_df.pivot(index = 'Timepoint', columns = 'Drug', values = 'Tumor Volume (mm3)')\n",
    "se_data = se_tv_df.pivot(index = 'Timepoint', columns = 'Drug', values = 'Tumor Volume (mm3)')\n",
    "\n",
    "# Preview that Reformatting worked\n",
    "mean_data.head()\n",
    "#se_data.head()"
   ]
  },
  {
   "cell_type": "code",
   "execution_count": 144,
   "metadata": {},
   "outputs": [],
   "source": [
    "#Make Dataframe that will be used\n",
    "mean_Capomulin = mean_tv_df.loc[mean_tv_df[\"Drug\"] == \"Capomulin\", :] \n",
    "mean_Infubinol = mean_tv_df.loc[mean_tv_df[\"Drug\"] == \"Infubinol\", :] \n",
    "mean_Ketapril = mean_tv_df.loc[mean_tv_df[\"Drug\"] == \"Ketapril\", :] \n",
    "mean_Placebo = mean_tv_df.loc[mean_tv_df[\"Drug\"] == \"Placebo\", :] \n",
    "\n",
    "se_Capomulin = se_tv_df.loc[mean_tv_df[\"Drug\"] == \"Capomulin\", :] \n",
    "se_Infubinol = se_tv_df.loc[mean_tv_df[\"Drug\"] == \"Infubinol\", :] \n",
    "se_Ketapril = se_tv_df.loc[mean_tv_df[\"Drug\"] == \"Ketapril\", :] \n",
    "se_Placebo = se_tv_df.loc[mean_tv_df[\"Drug\"] == \"Placebo\", :] \n"
   ]
  },
  {
   "cell_type": "code",
   "execution_count": 145,
   "metadata": {},
   "outputs": [
    {
     "data": {
      "text/plain": [
       "Text(0, 0.5, 'Tumor Volume (mm3)')"
      ]
     },
     "execution_count": 145,
     "metadata": {},
     "output_type": "execute_result"
    },
    {
     "data": {
      "image/png": "[encoded data removed]",
      "text/plain": [
       "<Figure size 432x288 with 1 Axes>"
      ]
     },
     "metadata": {
      "needs_background": "light"
     },
     "output_type": "display_data"
    }
   ],
   "source": [
    "# Generate the Plot (with Error Bars)\n",
    "Capomulin_plot = plt.scatter(mean_Capomulin[\"Timepoint\"], mean_Capomulin[\"Tumor Volume (mm3)\"], c=\"red\", marker = \"o\", label =\"Capomulin\")\n",
    "Infubinol_plot = plt.scatter(mean_Infubinol[\"Timepoint\"], mean_Infubinol[\"Tumor Volume (mm3)\"], c=\"blue\",  marker = \"^\", label =\"Infubinol\")\n",
    "Ketapril_plot = plt.scatter(mean_Ketapril[\"Timepoint\"], mean_Ketapril[\"Tumor Volume (mm3)\"], c=\"green\", marker = \"s\", label =\"Ketapril\")\n",
    "Placebo_plot = plt.scatter(mean_Placebo[\"Timepoint\"], mean_Placebo[\"Tumor Volume (mm3)\"], c=\"black\",  marker = \"d\", label =\"Placebo\")\n",
    "\n",
    "Capomulin_sebar = plt.errorbar(mean_Capomulin[\"Timepoint\"], mean_Capomulin[\"Tumor Volume (mm3)\"], yerr = se_Capomulin[\"Tumor Volume (mm3)\"], c=\"red\")\n",
    "Infubinol_sebar = plt.errorbar(mean_Infubinol[\"Timepoint\"], mean_Infubinol[\"Tumor Volume (mm3)\"], yerr = se_Infubinol[\"Tumor Volume (mm3)\"],c=\"blue\")\n",
    "Ketapril_sebar = plt.errorbar(mean_Ketapril[\"Timepoint\"], mean_Ketapril[\"Tumor Volume (mm3)\"], yerr = se_Ketapril[\"Tumor Volume (mm3)\"], c=\"green\")\n",
    "Placebo_sebar = plt.errorbar(mean_Placebo[\"Timepoint\"], mean_Placebo[\"Tumor Volume (mm3)\"], yerr = se_Placebo[\"Tumor Volume (mm3)\"], c=\"black\")\n",
    "\n",
    "#Add labels\n",
    "plt.legend(handles=[Capomulin_plot,Infubinol_plot,Ketapril_plot,Placebo_plot],loc=\"best\")\n",
    "plt.grid()\n",
    "plt.title('Tumor Response to Treatment')\n",
    "plt.xlabel('Time (Days)')\n",
    "plt.ylabel('Tumor Volume (mm3)')\n",
    "\n",
    "\n",
    "# Save the Figure"
   ]
  },
  {
   "cell_type": "code",
   "execution_count": 146,
   "metadata": {},
   "outputs": [
    {
     "data": {
      "text/plain": [
       "<Figure size 432x288 with 0 Axes>"
      ]
     },
     "metadata": {},
     "output_type": "display_data"
    }
   ],
   "source": [
    "#Save Plot\n",
    "plt.savefig(\"Tumor Response to Treatment.png\")"
   ]
  },
  {
   "cell_type": "code",
   "execution_count": 147,
   "metadata": {},
   "outputs": [
    {
     "data": {
      "text/html": [
       "<div>\n",
       "<style scoped>\n",
       "    .dataframe tbody tr th:only-of-type {\n",
       "        vertical-align: middle;\n",
       "    }\n",
       "\n",
       "    .dataframe tbody tr th {\n",
       "        vertical-align: top;\n",
       "    }\n",
       "\n",
       "    .dataframe thead th {\n",
       "        text-align: right;\n",
       "    }\n",
       "</style>\n",
       "<table border=\"1\" class=\"dataframe\">\n",
       "  <thead>\n",
       "    <tr style=\"text-align: right;\">\n",
       "      <th></th>\n",
       "      <th>Drug</th>\n",
       "      <th>Timepoint</th>\n",
       "      <th>Metastatic Sites</th>\n",
       "    </tr>\n",
       "  </thead>\n",
       "  <tbody>\n",
       "    <tr>\n",
       "      <th>0</th>\n",
       "      <td>Capomulin</td>\n",
       "      <td>0</td>\n",
       "      <td>0.000000</td>\n",
       "    </tr>\n",
       "    <tr>\n",
       "      <th>1</th>\n",
       "      <td>Capomulin</td>\n",
       "      <td>5</td>\n",
       "      <td>0.160000</td>\n",
       "    </tr>\n",
       "    <tr>\n",
       "      <th>2</th>\n",
       "      <td>Capomulin</td>\n",
       "      <td>10</td>\n",
       "      <td>0.320000</td>\n",
       "    </tr>\n",
       "    <tr>\n",
       "      <th>3</th>\n",
       "      <td>Capomulin</td>\n",
       "      <td>15</td>\n",
       "      <td>0.375000</td>\n",
       "    </tr>\n",
       "    <tr>\n",
       "      <th>4</th>\n",
       "      <td>Capomulin</td>\n",
       "      <td>20</td>\n",
       "      <td>0.652174</td>\n",
       "    </tr>\n",
       "  </tbody>\n",
       "</table>\n",
       "</div>"
      ],
      "text/plain": [
       "        Drug  Timepoint  Metastatic Sites\n",
       "0  Capomulin          0          0.000000\n",
       "1  Capomulin          5          0.160000\n",
       "2  Capomulin         10          0.320000\n",
       "3  Capomulin         15          0.375000\n",
       "4  Capomulin         20          0.652174"
      ]
     },
     "execution_count": 147,
     "metadata": {},
     "output_type": "execute_result"
    }
   ],
   "source": [
    "# Store the Mean Met. Site Data Grouped by Drug and Timepoint \n",
    "mean_ms_gb = data.groupby([\"Drug\", \"Timepoint\"])[\"Metastatic Sites\"].mean()\n",
    "\n",
    "# Convert to DataFrame\n",
    "mean_ms_df = pd.DataFrame(mean_ms_gb).reset_index()\n",
    "\n",
    "# Preview DataFrame\n",
    "mean_ms_df.head()"
   ]
  },
  {
   "cell_type": "code",
   "execution_count": 148,
   "metadata": {},
   "outputs": [
    {
     "data": {
      "text/html": [
       "<div>\n",
       "<style scoped>\n",
       "    .dataframe tbody tr th:only-of-type {\n",
       "        vertical-align: middle;\n",
       "    }\n",
       "\n",
       "    .dataframe tbody tr th {\n",
       "        vertical-align: top;\n",
       "    }\n",
       "\n",
       "    .dataframe thead th {\n",
       "        text-align: right;\n",
       "    }\n",
       "</style>\n",
       "<table border=\"1\" class=\"dataframe\">\n",
       "  <thead>\n",
       "    <tr style=\"text-align: right;\">\n",
       "      <th></th>\n",
       "      <th>Drug</th>\n",
       "      <th>Timepoint</th>\n",
       "      <th>Metastatic Sites</th>\n",
       "    </tr>\n",
       "  </thead>\n",
       "  <tbody>\n",
       "    <tr>\n",
       "      <th>0</th>\n",
       "      <td>Capomulin</td>\n",
       "      <td>0</td>\n",
       "      <td>0.000000</td>\n",
       "    </tr>\n",
       "    <tr>\n",
       "      <th>1</th>\n",
       "      <td>Capomulin</td>\n",
       "      <td>5</td>\n",
       "      <td>0.074833</td>\n",
       "    </tr>\n",
       "    <tr>\n",
       "      <th>2</th>\n",
       "      <td>Capomulin</td>\n",
       "      <td>10</td>\n",
       "      <td>0.125433</td>\n",
       "    </tr>\n",
       "    <tr>\n",
       "      <th>3</th>\n",
       "      <td>Capomulin</td>\n",
       "      <td>15</td>\n",
       "      <td>0.132048</td>\n",
       "    </tr>\n",
       "    <tr>\n",
       "      <th>4</th>\n",
       "      <td>Capomulin</td>\n",
       "      <td>20</td>\n",
       "      <td>0.161621</td>\n",
       "    </tr>\n",
       "  </tbody>\n",
       "</table>\n",
       "</div>"
      ],
      "text/plain": [
       "        Drug  Timepoint  Metastatic Sites\n",
       "0  Capomulin          0          0.000000\n",
       "1  Capomulin          5          0.074833\n",
       "2  Capomulin         10          0.125433\n",
       "3  Capomulin         15          0.132048\n",
       "4  Capomulin         20          0.161621"
      ]
     },
     "execution_count": 148,
     "metadata": {},
     "output_type": "execute_result"
    }
   ],
   "source": [
    "# Store the Standard Error associated with Met. Sites Grouped by Drug and Timepoint \n",
    "se_ms_gb = data.groupby([\"Drug\", \"Timepoint\"])[\"Metastatic Sites\"].sem()\n",
    "\n",
    "# Convert to DataFrame\n",
    "se_ms_df = pd.DataFrame(se_ms_gb).reset_index()\n",
    "\n",
    "# Preview DataFrame\n",
    "se_ms_df.head()"
   ]
  },
  {
   "cell_type": "code",
   "execution_count": 149,
   "metadata": {},
   "outputs": [
    {
     "data": {
      "text/html": [
       "<div>\n",
       "<style scoped>\n",
       "    .dataframe tbody tr th:only-of-type {\n",
       "        vertical-align: middle;\n",
       "    }\n",
       "\n",
       "    .dataframe tbody tr th {\n",
       "        vertical-align: top;\n",
       "    }\n",
       "\n",
       "    .dataframe thead th {\n",
       "        text-align: right;\n",
       "    }\n",
       "</style>\n",
       "<table border=\"1\" class=\"dataframe\">\n",
       "  <thead>\n",
       "    <tr style=\"text-align: right;\">\n",
       "      <th>Drug</th>\n",
       "      <th>Capomulin</th>\n",
       "      <th>Ceftamin</th>\n",
       "      <th>Infubinol</th>\n",
       "      <th>Ketapril</th>\n",
       "      <th>Naftisol</th>\n",
       "      <th>Placebo</th>\n",
       "      <th>Propriva</th>\n",
       "      <th>Ramicane</th>\n",
       "      <th>Stelasyn</th>\n",
       "      <th>Zoniferol</th>\n",
       "    </tr>\n",
       "    <tr>\n",
       "      <th>Timepoint</th>\n",
       "      <th></th>\n",
       "      <th></th>\n",
       "      <th></th>\n",
       "      <th></th>\n",
       "      <th></th>\n",
       "      <th></th>\n",
       "      <th></th>\n",
       "      <th></th>\n",
       "      <th></th>\n",
       "      <th></th>\n",
       "    </tr>\n",
       "  </thead>\n",
       "  <tbody>\n",
       "    <tr>\n",
       "      <th>0</th>\n",
       "      <td>0.000000</td>\n",
       "      <td>0.000000</td>\n",
       "      <td>0.000000</td>\n",
       "      <td>0.000000</td>\n",
       "      <td>0.000000</td>\n",
       "      <td>0.000000</td>\n",
       "      <td>0.000000</td>\n",
       "      <td>0.000000</td>\n",
       "      <td>0.000000</td>\n",
       "      <td>0.000000</td>\n",
       "    </tr>\n",
       "    <tr>\n",
       "      <th>5</th>\n",
       "      <td>0.160000</td>\n",
       "      <td>0.380952</td>\n",
       "      <td>0.280000</td>\n",
       "      <td>0.304348</td>\n",
       "      <td>0.260870</td>\n",
       "      <td>0.375000</td>\n",
       "      <td>0.320000</td>\n",
       "      <td>0.120000</td>\n",
       "      <td>0.240000</td>\n",
       "      <td>0.166667</td>\n",
       "    </tr>\n",
       "    <tr>\n",
       "      <th>10</th>\n",
       "      <td>0.320000</td>\n",
       "      <td>0.600000</td>\n",
       "      <td>0.666667</td>\n",
       "      <td>0.590909</td>\n",
       "      <td>0.523810</td>\n",
       "      <td>0.833333</td>\n",
       "      <td>0.565217</td>\n",
       "      <td>0.250000</td>\n",
       "      <td>0.478261</td>\n",
       "      <td>0.500000</td>\n",
       "    </tr>\n",
       "    <tr>\n",
       "      <th>15</th>\n",
       "      <td>0.375000</td>\n",
       "      <td>0.789474</td>\n",
       "      <td>0.904762</td>\n",
       "      <td>0.842105</td>\n",
       "      <td>0.857143</td>\n",
       "      <td>1.250000</td>\n",
       "      <td>0.764706</td>\n",
       "      <td>0.333333</td>\n",
       "      <td>0.782609</td>\n",
       "      <td>0.809524</td>\n",
       "    </tr>\n",
       "    <tr>\n",
       "      <th>20</th>\n",
       "      <td>0.652174</td>\n",
       "      <td>1.111111</td>\n",
       "      <td>1.050000</td>\n",
       "      <td>1.210526</td>\n",
       "      <td>1.150000</td>\n",
       "      <td>1.526316</td>\n",
       "      <td>1.000000</td>\n",
       "      <td>0.347826</td>\n",
       "      <td>0.952381</td>\n",
       "      <td>1.294118</td>\n",
       "    </tr>\n",
       "  </tbody>\n",
       "</table>\n",
       "</div>"
      ],
      "text/plain": [
       "Drug       Capomulin  Ceftamin  Infubinol  Ketapril  Naftisol   Placebo  \\\n",
       "Timepoint                                                                 \n",
       "0           0.000000  0.000000   0.000000  0.000000  0.000000  0.000000   \n",
       "5           0.160000  0.380952   0.280000  0.304348  0.260870  0.375000   \n",
       "10          0.320000  0.600000   0.666667  0.590909  0.523810  0.833333   \n",
       "15          0.375000  0.789474   0.904762  0.842105  0.857143  1.250000   \n",
       "20          0.652174  1.111111   1.050000  1.210526  1.150000  1.526316   \n",
       "\n",
       "Drug       Propriva  Ramicane  Stelasyn  Zoniferol  \n",
       "Timepoint                                           \n",
       "0          0.000000  0.000000  0.000000   0.000000  \n",
       "5          0.320000  0.120000  0.240000   0.166667  \n",
       "10         0.565217  0.250000  0.478261   0.500000  \n",
       "15         0.764706  0.333333  0.782609   0.809524  \n",
       "20         1.000000  0.347826  0.952381   1.294118  "
      ]
     },
     "execution_count": 149,
     "metadata": {},
     "output_type": "execute_result"
    }
   ],
   "source": [
    "# Minor Data Munging to Re-Format the Data Frames\n",
    "mean_ms_data = mean_ms_df.pivot(index = 'Timepoint', columns = 'Drug', values = 'Metastatic Sites')\n",
    "se_ms_data = se_ms_df.pivot(index = 'Timepoint', columns = 'Drug', values = 'Metastatic Sites')\n",
    "\n",
    "# Preview that Reformatting worked\n",
    "mean_ms_data.head()\n",
    "#se_ms_data.head()"
   ]
  },
  {
   "cell_type": "code",
   "execution_count": 150,
   "metadata": {},
   "outputs": [],
   "source": [
    "ms_mean_Capomulin = mean_ms_df.loc[mean_ms_df[\"Drug\"] == \"Capomulin\", :] \n",
    "ms_mean_Infubinol = mean_ms_df.loc[mean_ms_df[\"Drug\"] == \"Infubinol\", :] \n",
    "ms_mean_Ketapril = mean_ms_df.loc[mean_ms_df[\"Drug\"] == \"Ketapril\", :] \n",
    "ms_mean_Placebo = mean_ms_df.loc[mean_ms_df[\"Drug\"] == \"Placebo\", :] \n",
    "\n",
    "ms_se_Capomulin = se_ms_df.loc[mean_ms_df[\"Drug\"] == \"Capomulin\", :] \n",
    "ms_se_Infubinol = se_ms_df.loc[mean_ms_df[\"Drug\"] == \"Infubinol\", :] \n",
    "ms_se_Ketapril = se_ms_df.loc[mean_ms_df[\"Drug\"] == \"Ketapril\", :] \n",
    "ms_se_Placebo = se_ms_df.loc[mean_ms_df[\"Drug\"] == \"Placebo\", :] "
   ]
  },
  {
   "cell_type": "code",
   "execution_count": 151,
   "metadata": {},
   "outputs": [
    {
     "data": {
      "text/plain": [
       "Text(0, 0.5, 'Met. Site')"
      ]
     },
     "execution_count": 151,
     "metadata": {},
     "output_type": "execute_result"
    },
    {
     "data": {
      "image/png": "[encoded data removed]",
      "text/plain": [
       "<Figure size 432x288 with 1 Axes>"
      ]
     },
     "metadata": {
      "needs_background": "light"
     },
     "output_type": "display_data"
    }
   ],
   "source": [
    "# Generate the Plot (with Error Bars)\n",
    "ms_Capomulin_plot = plt.scatter(ms_mean_Capomulin[\"Timepoint\"], ms_mean_Capomulin[\"Metastatic Sites\"], c=\"red\", marker = \"o\", label =\"Capomulin\")\n",
    "ms_Infubinol_plot = plt.scatter(ms_mean_Infubinol[\"Timepoint\"], ms_mean_Infubinol[\"Metastatic Sites\"], c=\"blue\",  marker = \"^\", label =\"Infubinol\")\n",
    "ms_Ketapril_plot = plt.scatter(ms_mean_Ketapril[\"Timepoint\"], ms_mean_Ketapril[\"Metastatic Sites\"], c=\"green\", marker = \"s\", label =\"Ketapril\")\n",
    "ms_Placebo_plot = plt.scatter(ms_mean_Placebo[\"Timepoint\"], ms_mean_Placebo[\"Metastatic Sites\"], c=\"black\",  marker = \"d\", label =\"Placebo\")\n",
    "\n",
    "ms_Capomulin_sebar = plt.errorbar(ms_mean_Capomulin[\"Timepoint\"], ms_mean_Capomulin[\"Metastatic Sites\"], yerr = ms_se_Capomulin[\"Metastatic Sites\"], c=\"red\")\n",
    "ms_Infubinol_sebar = plt.errorbar(ms_mean_Infubinol[\"Timepoint\"], ms_mean_Infubinol[\"Metastatic Sites\"], yerr = ms_se_Infubinol[\"Metastatic Sites\"],c=\"blue\")\n",
    "ms_Ketapril_sebar = plt.errorbar(ms_mean_Ketapril[\"Timepoint\"], ms_mean_Ketapril[\"Metastatic Sites\"], yerr = ms_se_Ketapril[\"Metastatic Sites\"], c=\"green\")\n",
    "ms_Placebo_sebar = plt.errorbar(ms_mean_Placebo[\"Timepoint\"], ms_mean_Placebo[\"Metastatic Sites\"], yerr = ms_se_Placebo[\"Metastatic Sites\"], c=\"black\")\n",
    "\n",
    "#Add labels\n",
    "plt.legend(handles=[ms_Capomulin_plot,ms_Infubinol_plot,ms_Ketapril_plot,ms_Placebo_plot],loc=\"best\")\n",
    "plt.grid()\n",
    "plt.title('Metastatic Spread During Treatment')\n",
    "plt.xlabel('Time (Days)')\n",
    "plt.ylabel('Met. Site')"
   ]
  },
  {
   "cell_type": "code",
   "execution_count": 152,
   "metadata": {},
   "outputs": [
    {
     "data": {
      "text/plain": [
       "<Figure size 432x288 with 0 Axes>"
      ]
     },
     "metadata": {},
     "output_type": "display_data"
    }
   ],
   "source": [
    "#Save Plot\n",
    "plt.savefig(\"Metastatic Spread During Treatment.png\")"
   ]
  },
  {
   "cell_type": "code",
   "execution_count": 153,
   "metadata": {},
   "outputs": [
    {
     "data": {
      "text/html": [
       "<div>\n",
       "<style scoped>\n",
       "    .dataframe tbody tr th:only-of-type {\n",
       "        vertical-align: middle;\n",
       "    }\n",
       "\n",
       "    .dataframe tbody tr th {\n",
       "        vertical-align: top;\n",
       "    }\n",
       "\n",
       "    .dataframe thead th {\n",
       "        text-align: right;\n",
       "    }\n",
       "</style>\n",
       "<table border=\"1\" class=\"dataframe\">\n",
       "  <thead>\n",
       "    <tr style=\"text-align: right;\">\n",
       "      <th></th>\n",
       "      <th>Drug</th>\n",
       "      <th>Timepoint</th>\n",
       "      <th>Mouse ID</th>\n",
       "    </tr>\n",
       "  </thead>\n",
       "  <tbody>\n",
       "    <tr>\n",
       "      <th>0</th>\n",
       "      <td>Capomulin</td>\n",
       "      <td>0</td>\n",
       "      <td>25</td>\n",
       "    </tr>\n",
       "    <tr>\n",
       "      <th>1</th>\n",
       "      <td>Capomulin</td>\n",
       "      <td>5</td>\n",
       "      <td>25</td>\n",
       "    </tr>\n",
       "    <tr>\n",
       "      <th>2</th>\n",
       "      <td>Capomulin</td>\n",
       "      <td>10</td>\n",
       "      <td>25</td>\n",
       "    </tr>\n",
       "    <tr>\n",
       "      <th>3</th>\n",
       "      <td>Capomulin</td>\n",
       "      <td>15</td>\n",
       "      <td>24</td>\n",
       "    </tr>\n",
       "    <tr>\n",
       "      <th>4</th>\n",
       "      <td>Capomulin</td>\n",
       "      <td>20</td>\n",
       "      <td>23</td>\n",
       "    </tr>\n",
       "  </tbody>\n",
       "</table>\n",
       "</div>"
      ],
      "text/plain": [
       "        Drug  Timepoint  Mouse ID\n",
       "0  Capomulin          0        25\n",
       "1  Capomulin          5        25\n",
       "2  Capomulin         10        25\n",
       "3  Capomulin         15        24\n",
       "4  Capomulin         20        23"
      ]
     },
     "execution_count": 153,
     "metadata": {},
     "output_type": "execute_result"
    }
   ],
   "source": [
    "# Store the Count of Mice Grouped by Drug and Timepoint (W can pass any metric)\n",
    "mouse_count_gb = data.groupby([\"Drug\", \"Timepoint\"])[\"Mouse ID\"].count()\n",
    "\n",
    "# Convert to DataFrame\n",
    "mouse_count_df = pd.DataFrame(mouse_count_gb).reset_index()\n",
    "\n",
    "# Preview DataFrame\n",
    "mouse_count_df.head()"
   ]
  },
  {
   "cell_type": "code",
   "execution_count": 154,
   "metadata": {},
   "outputs": [
    {
     "data": {
      "text/html": [
       "<div>\n",
       "<style scoped>\n",
       "    .dataframe tbody tr th:only-of-type {\n",
       "        vertical-align: middle;\n",
       "    }\n",
       "\n",
       "    .dataframe tbody tr th {\n",
       "        vertical-align: top;\n",
       "    }\n",
       "\n",
       "    .dataframe thead th {\n",
       "        text-align: right;\n",
       "    }\n",
       "</style>\n",
       "<table border=\"1\" class=\"dataframe\">\n",
       "  <thead>\n",
       "    <tr style=\"text-align: right;\">\n",
       "      <th>Drug</th>\n",
       "      <th>Capomulin</th>\n",
       "      <th>Ceftamin</th>\n",
       "      <th>Infubinol</th>\n",
       "      <th>Ketapril</th>\n",
       "      <th>Naftisol</th>\n",
       "      <th>Placebo</th>\n",
       "      <th>Propriva</th>\n",
       "      <th>Ramicane</th>\n",
       "      <th>Stelasyn</th>\n",
       "      <th>Zoniferol</th>\n",
       "    </tr>\n",
       "    <tr>\n",
       "      <th>Timepoint</th>\n",
       "      <th></th>\n",
       "      <th></th>\n",
       "      <th></th>\n",
       "      <th></th>\n",
       "      <th></th>\n",
       "      <th></th>\n",
       "      <th></th>\n",
       "      <th></th>\n",
       "      <th></th>\n",
       "      <th></th>\n",
       "    </tr>\n",
       "  </thead>\n",
       "  <tbody>\n",
       "    <tr>\n",
       "      <th>0</th>\n",
       "      <td>25</td>\n",
       "      <td>25</td>\n",
       "      <td>25</td>\n",
       "      <td>25</td>\n",
       "      <td>25</td>\n",
       "      <td>25</td>\n",
       "      <td>26</td>\n",
       "      <td>25</td>\n",
       "      <td>26</td>\n",
       "      <td>25</td>\n",
       "    </tr>\n",
       "    <tr>\n",
       "      <th>5</th>\n",
       "      <td>25</td>\n",
       "      <td>21</td>\n",
       "      <td>25</td>\n",
       "      <td>23</td>\n",
       "      <td>23</td>\n",
       "      <td>24</td>\n",
       "      <td>25</td>\n",
       "      <td>25</td>\n",
       "      <td>25</td>\n",
       "      <td>24</td>\n",
       "    </tr>\n",
       "    <tr>\n",
       "      <th>10</th>\n",
       "      <td>25</td>\n",
       "      <td>20</td>\n",
       "      <td>21</td>\n",
       "      <td>22</td>\n",
       "      <td>21</td>\n",
       "      <td>24</td>\n",
       "      <td>23</td>\n",
       "      <td>24</td>\n",
       "      <td>23</td>\n",
       "      <td>22</td>\n",
       "    </tr>\n",
       "    <tr>\n",
       "      <th>15</th>\n",
       "      <td>24</td>\n",
       "      <td>19</td>\n",
       "      <td>21</td>\n",
       "      <td>19</td>\n",
       "      <td>21</td>\n",
       "      <td>20</td>\n",
       "      <td>17</td>\n",
       "      <td>24</td>\n",
       "      <td>23</td>\n",
       "      <td>21</td>\n",
       "    </tr>\n",
       "    <tr>\n",
       "      <th>20</th>\n",
       "      <td>23</td>\n",
       "      <td>18</td>\n",
       "      <td>20</td>\n",
       "      <td>19</td>\n",
       "      <td>20</td>\n",
       "      <td>19</td>\n",
       "      <td>17</td>\n",
       "      <td>23</td>\n",
       "      <td>21</td>\n",
       "      <td>17</td>\n",
       "    </tr>\n",
       "  </tbody>\n",
       "</table>\n",
       "</div>"
      ],
      "text/plain": [
       "Drug       Capomulin  Ceftamin  Infubinol  Ketapril  Naftisol  Placebo  \\\n",
       "Timepoint                                                                \n",
       "0                 25        25         25        25        25       25   \n",
       "5                 25        21         25        23        23       24   \n",
       "10                25        20         21        22        21       24   \n",
       "15                24        19         21        19        21       20   \n",
       "20                23        18         20        19        20       19   \n",
       "\n",
       "Drug       Propriva  Ramicane  Stelasyn  Zoniferol  \n",
       "Timepoint                                           \n",
       "0                26        25        26         25  \n",
       "5                25        25        25         24  \n",
       "10               23        24        23         22  \n",
       "15               17        24        23         21  \n",
       "20               17        23        21         17  "
      ]
     },
     "execution_count": 154,
     "metadata": {},
     "output_type": "execute_result"
    }
   ],
   "source": [
    "# Minor Data Munging to Re-Format the Data Frame\n",
    "mouse_count_data = mouse_count_df.pivot(index = 'Timepoint', columns = 'Drug', values = 'Mouse ID')\n",
    "mouse_count_data.head()\n",
    "\n",
    "# Preview the Data Frame"
   ]
  },
  {
   "cell_type": "code",
   "execution_count": 155,
   "metadata": {},
   "outputs": [
    {
     "data": {
      "text/plain": [
       "Text(0, 0.5, 'Survival Rate %')"
      ]
     },
     "execution_count": 155,
     "metadata": {},
     "output_type": "execute_result"
    },
    {
     "data": {
      "image/png": "[encoded data removed]",
      "text/plain": [
       "<Figure size 432x288 with 1 Axes>"
      ]
     },
     "metadata": {
      "needs_background": "light"
     },
     "output_type": "display_data"
    }
   ],
   "source": [
    "# Generate the Plot (Accounting for percentages)\n",
    "Capomulin_mice_count = mouse_count_df.loc[mouse_count_df[\"Drug\"] == \"Capomulin\",:]\n",
    "Infubinol_mice_count = mouse_count_df.loc[mouse_count_df[\"Drug\"] == \"Infubinol\",:]\n",
    "Ketapril_mice_count = mouse_count_df.loc[mouse_count_df[\"Drug\"] == \"Ketapril\",:]\n",
    "Placebo_mice_count = mouse_count_df.loc[mouse_count_df[\"Drug\"] == \"Placebo\",:]\n",
    "\n",
    "percent_Capomulin = Capomulin_mice_count[\"Mouse ID\"]/Capomulin_mice_count[\"Mouse ID\"].iloc[0]\n",
    "percent_Infubinol = Infubinol_mice_count[\"Mouse ID\"]/Infubinol_mice_count[\"Mouse ID\"].iloc[0]\n",
    "percent_Ketapril = Ketapril_mice_count[\"Mouse ID\"]/Ketapril_mice_count[\"Mouse ID\"].iloc[0]\n",
    "percent_Placebo = Placebo_mice_count[\"Mouse ID\"]/Placebo_mice_count[\"Mouse ID\"].iloc[0]\n",
    "\n",
    "mouse_plot_c = plt.plot(Capomulin_mice_count[\"Timepoint\"], percent_Capomulin, c=\"red\", marker = \"o\", label =\"Capomulin\")\n",
    "mouse_plot_i = plt.plot(Infubinol_mice_count[\"Timepoint\"], percent_Infubinol, c=\"blue\",  marker = \"^\", label =\"Infubinol\")\n",
    "mouse_plot_k = plt.plot(Ketapril_mice_count[\"Timepoint\"], percent_Ketapril, c=\"green\",  marker = \"s\", label =\"Ketapril\")\n",
    "mouse_plot_p = plt.plot(Placebo_mice_count[\"Timepoint\"], percent_Placebo, c=\"black\",  marker = \"d\", label =\"Placebo\")\n",
    "\n",
    "plt.legend(handles=[ms_Capomulin_plot,ms_Infubinol_plot,ms_Ketapril_plot,ms_Placebo_plot],loc=\"best\")\n",
    "plt.grid()\n",
    "plt.title('Survival Percentage During Treatment')\n",
    "plt.xlabel('Time (Days)')\n",
    "plt.ylabel('Survival Rate %')\n",
    "\n",
    "# Save the Figure\n",
    "\n",
    "# Show the Figure"
   ]
  },
  {
   "cell_type": "code",
   "execution_count": 156,
   "metadata": {},
   "outputs": [
    {
     "data": {
      "text/plain": [
       "<Figure size 432x288 with 0 Axes>"
      ]
     },
     "metadata": {},
     "output_type": "display_data"
    }
   ],
   "source": [
    "#Save Plot\n",
    "plt.savefig(\"Survival Percentage During Treatment.png\")"
   ]
  },
  {
   "cell_type": "code",
   "execution_count": 183,
   "metadata": {},
   "outputs": [
    {
     "data": {
      "text/plain": [
       "Text(3, 6, '51.30%')"
      ]
     },
     "execution_count": 183,
     "metadata": {},
     "output_type": "execute_result"
    },
    {
     "data": {
      "image/png": "[encoded data removed]",
      "text/plain": [
       "<Figure size 432x288 with 1 Axes>"
      ]
     },
     "metadata": {
      "needs_background": "light"
     },
     "output_type": "display_data"
    }
   ],
   "source": [
    "# Calculate the percent changes for each drug\n",
    "#k = data.groupby([\"Drug\",\"Timepoint\"]).get_values()[\"Tumor Volume (mm3)\"]\n",
    "#k = pd.DataFrame(k).reset_index()\n",
    "\n",
    "mean_Capomulin = mean_tv_df.loc[mean_tv_df[\"Drug\"] == \"Capomulin\", :] \n",
    "mean_Infubinol = mean_tv_df.loc[mean_tv_df[\"Drug\"] == \"Infubinol\", :] \n",
    "mean_Ketapril = mean_tv_df.loc[mean_tv_df[\"Drug\"] == \"Ketapril\", :] \n",
    "mean_Placebo = mean_tv_df.loc[mean_tv_df[\"Drug\"] == \"Placebo\", :] \n",
    "\n",
    "Campomulin_change = (mean_Capomulin[\"Tumor Volume (mm3)\"].iloc[9]-mean_Capomulin[\"Tumor Volume (mm3)\"].iloc[0])/mean_Capomulin[\"Tumor Volume (mm3)\"].iloc[0]*100\n",
    "Infubinol_change = (mean_Infubinol[\"Tumor Volume (mm3)\"].iloc[9]-mean_Infubinol[\"Tumor Volume (mm3)\"].iloc[0])/mean_Infubinol[\"Tumor Volume (mm3)\"].iloc[0]*100\n",
    "Ketapril_change = (mean_Ketapril[\"Tumor Volume (mm3)\"].iloc[9]-mean_Ketapril[\"Tumor Volume (mm3)\"].iloc[0])/mean_Ketapril[\"Tumor Volume (mm3)\"].iloc[0]*100\n",
    "Placebo_change = (mean_Placebo[\"Tumor Volume (mm3)\"].iloc[9]-mean_Placebo[\"Tumor Volume (mm3)\"].iloc[0])/mean_Placebo[\"Tumor Volume (mm3)\"].iloc[0]*100\n",
    "\n",
    "Campomulin_bar = plt.bar(mean_Capomulin[\"Drug\"],Campomulin_change, color=\"green\", label = \"Campomulin\")\n",
    "Infubinol_bar = plt.bar(mean_Infubinol[\"Drug\"],Infubinol_change, color=\"red\", label = \"Infubinol\")\n",
    "Ketapril_bar = plt.bar(mean_Ketapril[\"Drug\"],Ketapril_change, color=\"red\", label = \"Ketapril\")\n",
    "Placebo_bar = plt.bar(mean_Placebo[\"Drug\"],Placebo_change, color=\"red\", label = \"Placebo\")\n",
    "\n",
    "plt.title('Tumor Change Over 45 Day Treatment')\n",
    "plt.xlabel('Drug')\n",
    "plt.ylabel('% Tumor Volume Change')\n",
    "plt.axhline(0, color = \"black\")\n",
    "plt.text(x, -6, '{:.2f}%'.format(Campomulin_change), horizontalalignment='center',color = \"white\")\n",
    "plt.text(1, 6, '{:.2f}%'.format(Infubinol_change), horizontalalignment='center',color = \"white\")\n",
    "plt.text(2, 6, '{:.2f}%'.format(Ketapril_change), horizontalalignment='center',color = \"white\")\n",
    "plt.text(3, 6, '{:.2f}%'.format(Placebo_change), horizontalalignment='center',color = \"white\")\n",
    "\n",
    "# Display the data to confirm"
   ]
  },
  {
   "cell_type": "code",
   "execution_count": 186,
   "metadata": {},
   "outputs": [
    {
     "data": {
      "text/plain": [
       "<Figure size 432x288 with 0 Axes>"
      ]
     },
     "metadata": {},
     "output_type": "display_data"
    }
   ],
   "source": [
    "plt.savefig(\"Tumor Change Over 45 Day Treatment.png\")"
   ]
  },
  {
   "cell_type": "code",
   "execution_count": null,
   "metadata": {},
   "outputs": [],
   "source": []
  }
 ],
 "metadata": {
  "kernelspec": {
   "display_name": "Python 3",
   "language": "python",
   "name": "python3"
  },
  "language_info": {
   "codemirror_mode": {
    "name": "ipython",
    "version": 3
   },
   "file_extension": ".py",
   "mimetype": "text/x-python",
   "name": "python",
   "nbconvert_exporter": "python",
   "pygments_lexer": "ipython3",
   "version": "3.7.3"
  }
 },
 "nbformat": 4,
 "nbformat_minor": 2
}
